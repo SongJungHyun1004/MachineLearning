{
 "cells": [
  {
   "cell_type": "code",
   "execution_count": 1,
   "id": "3d1b130d",
   "metadata": {},
   "outputs": [
    {
     "name": "stdout",
     "output_type": "stream",
     "text": [
      "best parameters :  {'C': 0.1, 'gamma': 0.1}\n",
      "best score :  0.36439305666109234\n",
      "test data에 대한 모델의 성능 :  0.36910569105691055\n"
     ]
    }
   ],
   "source": [
    "import pandas as pd\n",
    "from sklearn.model_selection import GridSearchCV\n",
    "from sklearn.svm import SVC\n",
    "\n",
    "train_df = pd.read_csv('mnist_train_final.csv')\n",
    "test_df = pd.read_csv('mnist_test_final.csv')\n",
    "\n",
    "train_df = train_df[(train_df['label']==1) | (train_df['label']==4) | (train_df['label']==6)]\n",
    "test_df = test_df[(test_df['label']==1) | (test_df['label']==4) | (test_df['label']==6)]\n",
    "\n",
    "trn_feats = train_df.loc[:, train_df.columns != 'label']\n",
    "tst_feats = test_df.loc[:, test_df.columns != 'label']\n",
    "trn_labels = train_df['label']\n",
    "tst_labels = test_df['label']\n",
    "\n",
    "clf = SVC() # default  kernel='rbf'\n",
    "parameters = {\n",
    "    'gamma' : [0.1, 1, 5, 10],\n",
    "    'C' : [0.1, 1, 5, 10]\n",
    "}\n",
    "GSCV = GridSearchCV(clf, param_grid=parameters, scoring='accuracy')\n",
    "GSCV.fit(trn_feats, trn_labels)\n",
    "\n",
    "print('best parameters : ', GSCV.best_params_)\n",
    "print('best score : ', GSCV.best_score_)\n",
    "clf = GSCV.best_estimator_\n",
    "print(\"test data에 대한 모델의 성능 : \", clf.score(tst_feats, tst_labels))"
   ]
  },
  {
   "cell_type": "code",
   "execution_count": null,
   "id": "1d41837b",
   "metadata": {},
   "outputs": [],
   "source": []
  }
 ],
 "metadata": {
  "kernelspec": {
   "display_name": "Python 3 (ipykernel)",
   "language": "python",
   "name": "python3"
  },
  "language_info": {
   "codemirror_mode": {
    "name": "ipython",
    "version": 3
   },
   "file_extension": ".py",
   "mimetype": "text/x-python",
   "name": "python",
   "nbconvert_exporter": "python",
   "pygments_lexer": "ipython3",
   "version": "3.9.7"
  }
 },
 "nbformat": 4,
 "nbformat_minor": 5
}
