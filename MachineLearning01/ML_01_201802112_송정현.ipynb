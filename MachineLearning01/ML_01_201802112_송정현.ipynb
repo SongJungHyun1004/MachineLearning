{
 "cells": [
  {
   "cell_type": "code",
   "execution_count": 3,
   "id": "9b4b508a",
   "metadata": {},
   "outputs": [
    {
     "name": "stdout",
     "output_type": "stream",
     "text": [
      "{'one': 3, 'two': 2, 'seven': 4, 'three': 1, 'four': 1, 'five': 2, 'six': 1}\n",
      "['one', 'two', 'seven', 'three', 'four', 'five', 'six']\n",
      "{'baby': 2, '1': 2, 'school': 1, '2': 2, 'child': 1}\n",
      "['baby', '1', 'school', '2', 'child']\n"
     ]
    }
   ],
   "source": [
    "def my_function(dict1):\n",
    "    print(list(dict1.keys()))\n",
    "\n",
    "f = open('C:/Users/joker/Desktop/기계학습/lab1_test.txt', 'r')\n",
    "line = f.readline()\n",
    "while line:\n",
    "    dict1 = {}\n",
    "    lst = line.split()\n",
    "    for key in lst:\n",
    "        if key in dict1:\n",
    "            dict1[key] += 1\n",
    "        else:\n",
    "            dict1[key] = 1\n",
    "    print(dict1)\n",
    "    my_function(dict1)\n",
    "    line = f.readline()"
   ]
  }
 ],
 "metadata": {
  "kernelspec": {
   "display_name": "Python 3 (ipykernel)",
   "language": "python",
   "name": "python3"
  },
  "language_info": {
   "codemirror_mode": {
    "name": "ipython",
    "version": 3
   },
   "file_extension": ".py",
   "mimetype": "text/x-python",
   "name": "python",
   "nbconvert_exporter": "python",
   "pygments_lexer": "ipython3",
   "version": "3.9.7"
  }
 },
 "nbformat": 4,
 "nbformat_minor": 5
}
