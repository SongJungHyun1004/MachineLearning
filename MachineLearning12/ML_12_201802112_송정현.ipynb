{
  "nbformat": 4,
  "nbformat_minor": 0,
  "metadata": {
    "colab": {
      "provenance": []
    },
    "kernelspec": {
      "name": "python3",
      "display_name": "Python 3"
    },
    "language_info": {
      "name": "python"
    }
  },
  "cells": [
    {
      "cell_type": "code",
      "execution_count": null,
      "metadata": {
        "colab": {
          "base_uri": "https://localhost:8080/"
        },
        "id": "UnJ4hPzkWgDl",
        "outputId": "b3067587-3d47-44e6-de1b-08bdb61430f8"
      },
      "outputs": [
        {
          "output_type": "stream",
          "name": "stdout",
          "text": [
            "Epoch 1/20\n",
            "1563/1563 [==============================] - 11s 7ms/step - loss: 1.8540 - accuracy: 0.3300\n",
            "Epoch 2/20\n",
            "1563/1563 [==============================] - 11s 7ms/step - loss: 1.6811 - accuracy: 0.3982\n",
            "Epoch 3/20\n",
            "1563/1563 [==============================] - 11s 7ms/step - loss: 1.6058 - accuracy: 0.4268\n",
            "Epoch 4/20\n",
            "1563/1563 [==============================] - 11s 7ms/step - loss: 1.5575 - accuracy: 0.4442\n",
            "Epoch 5/20\n",
            "1563/1563 [==============================] - 11s 7ms/step - loss: 1.5250 - accuracy: 0.4589\n",
            "Epoch 6/20\n",
            "1563/1563 [==============================] - 10s 7ms/step - loss: 1.4985 - accuracy: 0.4661\n",
            "Epoch 7/20\n",
            "1563/1563 [==============================] - 10s 7ms/step - loss: 1.4748 - accuracy: 0.4740\n",
            "Epoch 8/20\n",
            "1563/1563 [==============================] - 10s 7ms/step - loss: 1.4520 - accuracy: 0.4811\n",
            "Epoch 9/20\n",
            "1563/1563 [==============================] - 11s 7ms/step - loss: 1.4375 - accuracy: 0.4870\n",
            "Epoch 10/20\n",
            "1563/1563 [==============================] - 11s 7ms/step - loss: 1.4215 - accuracy: 0.4945\n",
            "Epoch 11/20\n",
            "1563/1563 [==============================] - 11s 7ms/step - loss: 1.4048 - accuracy: 0.4983\n",
            "Epoch 12/20\n",
            "1563/1563 [==============================] - 10s 7ms/step - loss: 1.3886 - accuracy: 0.5048\n",
            "Epoch 13/20\n",
            "1563/1563 [==============================] - 10s 7ms/step - loss: 1.3814 - accuracy: 0.5083\n",
            "Epoch 14/20\n",
            "1563/1563 [==============================] - 10s 7ms/step - loss: 1.3751 - accuracy: 0.5102\n",
            "Epoch 15/20\n",
            "1563/1563 [==============================] - 11s 7ms/step - loss: 1.3607 - accuracy: 0.5125\n",
            "Epoch 16/20\n",
            "1563/1563 [==============================] - 12s 7ms/step - loss: 1.3538 - accuracy: 0.5160\n",
            "Epoch 17/20\n",
            "1563/1563 [==============================] - 12s 8ms/step - loss: 1.3416 - accuracy: 0.5215\n",
            "Epoch 18/20\n",
            "1563/1563 [==============================] - 12s 8ms/step - loss: 1.3348 - accuracy: 0.5217\n",
            "Epoch 19/20\n",
            "1563/1563 [==============================] - 12s 8ms/step - loss: 1.3278 - accuracy: 0.5260\n",
            "Epoch 20/20\n",
            "1563/1563 [==============================] - 12s 8ms/step - loss: 1.3221 - accuracy: 0.5301\n",
            "313/313 [==============================] - 1s 3ms/step - loss: 1.4306 - accuracy: 0.4930\n",
            "test loss: 1.4305548667907715 test accuracy: 0.49300000071525574\n"
          ]
        }
      ],
      "source": [
        "import tensorflow as tf\n",
        "from tensorflow import keras\n",
        "\n",
        "cifar10 = tf.keras.datasets.cifar10\n",
        "(x_train, y_train), (x_test, y_test) = cifar10.load_data()\n",
        "\n",
        "x_train, x_test = x_train/255, x_test/255\n",
        "\n",
        "model = keras.models.Sequential([\n",
        "    keras.layers.Flatten(input_shape = (32, 32, 3)),\n",
        "    keras.layers.Dense(200, activation = 'relu'),\n",
        "    keras.layers.Dense(100, activation = 'relu'),\n",
        "    keras.layers.Dense(10, activation = 'softmax'),\n",
        "])\n",
        "\n",
        "model.compile(optimizer='adam', loss='sparse_categorical_crossentropy', metrics=['accuracy'])\n",
        "model.fit(x_train, y_train, epochs = 20)\n",
        "eval_loss, eval_acc = model.evaluate(x_test, y_test)\n",
        "print('test loss:', eval_loss, 'test accuracy:', eval_acc)"
      ]
    },
    {
      "cell_type": "code",
      "source": [
        "model2 = keras.models.Sequential([\n",
        "    keras.layers.Conv2D(input_shape = (32, 32, 3), kernel_size=3, strides=1, padding='same', activation='relu', filters=30),\n",
        "    keras.layers.MaxPooling2D((2, 2), strides=2),\n",
        "    keras.layers.Conv2D(kernel_size=3, strides=1, padding='same', activation='relu', filters=60),\n",
        "    keras.layers.MaxPooling2D((2, 2), strides=2),\n",
        "    keras.layers.Flatten(),\n",
        "    keras.layers.Dense(64, activation = 'relu'),\n",
        "    keras.layers.Dense(32, activation = 'relu'),\n",
        "    keras.layers.Dense(10, activation = 'softmax'),\n",
        "])\n",
        "\n",
        "model2.compile(optimizer='adam', loss='sparse_categorical_crossentropy', metrics=['accuracy'])\n",
        "model2.fit(x_train, y_train, epochs = 20)\n",
        "eval_loss, eval_acc = model2.evaluate(x_test, y_test)\n",
        "print('test loss:', eval_loss, 'test accuracy:', eval_acc)"
      ],
      "metadata": {
        "colab": {
          "base_uri": "https://localhost:8080/"
        },
        "id": "AJM7iSwE3qNY",
        "outputId": "2249addf-57f3-4b13-abe9-a41e3ea4d431"
      },
      "execution_count": null,
      "outputs": [
        {
          "output_type": "stream",
          "name": "stdout",
          "text": [
            "Epoch 1/20\n",
            "1563/1563 [==============================] - 98s 62ms/step - loss: 1.4326 - accuracy: 0.4838\n",
            "Epoch 2/20\n",
            "1563/1563 [==============================] - 94s 60ms/step - loss: 1.0595 - accuracy: 0.6269\n",
            "Epoch 3/20\n",
            "1563/1563 [==============================] - 94s 60ms/step - loss: 0.9251 - accuracy: 0.6736\n",
            "Epoch 4/20\n",
            "1563/1563 [==============================] - 99s 63ms/step - loss: 0.8356 - accuracy: 0.7080\n",
            "Epoch 5/20\n",
            "1563/1563 [==============================] - 93s 60ms/step - loss: 0.7648 - accuracy: 0.7323\n",
            "Epoch 6/20\n",
            "1563/1563 [==============================] - 96s 62ms/step - loss: 0.7054 - accuracy: 0.7520\n",
            "Epoch 7/20\n",
            "1563/1563 [==============================] - 94s 60ms/step - loss: 0.6523 - accuracy: 0.7716\n",
            "Epoch 8/20\n",
            "1563/1563 [==============================] - 94s 60ms/step - loss: 0.6074 - accuracy: 0.7849\n",
            "Epoch 9/20\n",
            "1563/1563 [==============================] - 97s 62ms/step - loss: 0.5662 - accuracy: 0.8000\n",
            "Epoch 10/20\n",
            "1563/1563 [==============================] - 94s 60ms/step - loss: 0.5241 - accuracy: 0.8150\n",
            "Epoch 11/20\n",
            "1563/1563 [==============================] - 96s 61ms/step - loss: 0.4865 - accuracy: 0.8278\n",
            "Epoch 12/20\n",
            "1563/1563 [==============================] - 95s 61ms/step - loss: 0.4500 - accuracy: 0.8405\n",
            "Epoch 13/20\n",
            "1563/1563 [==============================] - 94s 60ms/step - loss: 0.4248 - accuracy: 0.8502\n",
            "Epoch 14/20\n",
            "1563/1563 [==============================] - 97s 62ms/step - loss: 0.3956 - accuracy: 0.8588\n",
            "Epoch 15/20\n",
            "1563/1563 [==============================] - 94s 60ms/step - loss: 0.3716 - accuracy: 0.8671\n",
            "Epoch 16/20\n",
            "1563/1563 [==============================] - 95s 61ms/step - loss: 0.3476 - accuracy: 0.8760\n",
            "Epoch 17/20\n",
            "1563/1563 [==============================] - 95s 61ms/step - loss: 0.3192 - accuracy: 0.8850\n",
            "Epoch 18/20\n",
            "1563/1563 [==============================] - 94s 60ms/step - loss: 0.2994 - accuracy: 0.8928\n",
            "Epoch 19/20\n",
            "1563/1563 [==============================] - 96s 62ms/step - loss: 0.2871 - accuracy: 0.8972\n",
            "Epoch 20/20\n",
            "1563/1563 [==============================] - 94s 60ms/step - loss: 0.2712 - accuracy: 0.9031\n",
            "313/313 [==============================] - 6s 19ms/step - loss: 1.3488 - accuracy: 0.6859\n",
            "test loss: 1.3488065004348755 test accuracy: 0.6858999729156494\n"
          ]
        }
      ]
    }
  ]
}