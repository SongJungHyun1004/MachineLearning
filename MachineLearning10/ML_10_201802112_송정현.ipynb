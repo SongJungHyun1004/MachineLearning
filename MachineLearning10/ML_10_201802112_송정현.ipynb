{
 "cells": [
  {
   "cell_type": "code",
   "execution_count": 29,
   "id": "8c55b8b1",
   "metadata": {},
   "outputs": [
    {
     "name": "stdout",
     "output_type": "stream",
     "text": [
      "epoch 횟수 : 29\n",
      "x1 : 0.0\n",
      "x2 : 0.0\n",
      "x3 : 0.0\n",
      "x4 : 1.0\n"
     ]
    }
   ],
   "source": [
    "import numpy as np\n",
    "\n",
    "def init_network(): #network 생성함수\n",
    "    #dictionary\n",
    "    network = {}\n",
    "    network['bias'] = 1 # x0\n",
    "    network['weight1'] = np.random.uniform(0, 1) #가중치 초기화\n",
    "    network['weight2'] = np.random.uniform(0, 1)\n",
    "    return network\n",
    "\n",
    "def train(network, x1, x2, t):\n",
    "    #학습에 필요한 객체 또는 변수 선언\n",
    "    epoch = 100\n",
    "    for i in range(epoch):\n",
    "        y = sigmoid(network['weight1']*x1 + network['weight2']*x2 + network['bias'])\n",
    "        error = MSELoss(y, t)\n",
    "        gradient = (y-t)*y*(1-y)\n",
    "        network['weight1'] = network['weight1'] - gradient*x1\n",
    "        network['weight2'] = network['weight2'] - gradient*x2\n",
    "        network['bias'] = network['bias'] - gradient\n",
    "        if np.mean(error) < 0.01:\n",
    "            print('epoch 횟수 :', i+1)\n",
    "            break\n",
    "    return network\n",
    "\n",
    "def test(network, x1, x2):\n",
    "    # train()호출하여 학습된 network의 weight로 데이터 샘플의 label예측\n",
    "    #activation fuction사용 (ex. sigmoid function)\n",
    "    #0.5를 기준으로 0.5 이상이면 1, 아니면 0\n",
    "    y = sigmoid(network['weight1']*x1 + network['weight2']*x2 + network['bias'])\n",
    "    for i in range(len(y)):\n",
    "        if y[i] < 0.5:\n",
    "            y[i] = 0\n",
    "        else:\n",
    "            y[i] = 1\n",
    "    return y\n",
    "    \n",
    "def MSELoss(predict, target):\n",
    "    #MSELoss를 numpy로 구현\n",
    "    E = (predict-target)**2/2\n",
    "    return E\n",
    "\n",
    "def sigmoid(x):\n",
    "    #sigmoid function을 numpy로 구현\n",
    "    s = 1 / (1 + np.exp(-x))\n",
    "    return s\n",
    "\n",
    "if __name__ == '__main__':\n",
    "    data = np.array([[1, 0, 0],\n",
    "                     [1, 1, 0],\n",
    "                     [1, 0, 1],\n",
    "                     [1, 1, 1]])\n",
    "    label = np.array([0, 0, 0, 1])\n",
    "    x1 = data[:, 1]\n",
    "    x2 = data[:, 2]\n",
    "    network = init_network()\n",
    "    network = train(network, x1, x2, label)\n",
    "    y = test(network, x1, x2)\n",
    "    for i in range(len(y)):\n",
    "        print('x', i+1, ' : ', y[i], sep='')"
   ]
  }
 ],
 "metadata": {
  "kernelspec": {
   "display_name": "Python 3 (ipykernel)",
   "language": "python",
   "name": "python3"
  },
  "language_info": {
   "codemirror_mode": {
    "name": "ipython",
    "version": 3
   },
   "file_extension": ".py",
   "mimetype": "text/x-python",
   "name": "python",
   "nbconvert_exporter": "python",
   "pygments_lexer": "ipython3",
   "version": "3.9.13"
  }
 },
 "nbformat": 4,
 "nbformat_minor": 5
}
