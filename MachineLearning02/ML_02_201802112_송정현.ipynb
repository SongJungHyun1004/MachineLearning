{
 "cells": [
  {
   "cell_type": "code",
   "execution_count": 4,
   "id": "a7ee0835",
   "metadata": {},
   "outputs": [
    {
     "name": "stdout",
     "output_type": "stream",
     "text": [
      "number of samples :  150\n",
      "number of classs :  3\n",
      "==================================================================\n",
      "Number of samples in class 1.0 : 50\n",
      "Avg vector in class 1.0 : [5.006 3.418 1.464 0.244]\n",
      "Standard Deviation in class 1.0 : [0.34894699 0.37719491 0.17176728 0.10613199]\n",
      "==================================================================\n",
      "Number of samples in class 2.0 : 50\n",
      "Avg vector in class 2.0 : [5.936 2.77  4.26  1.326]\n",
      "Standard Deviation in class 2.0 : [0.51098337 0.31064449 0.46518813 0.19576517]\n",
      "==================================================================\n",
      "Number of samples in class 3.0 : 50\n",
      "Avg vector in class 3.0 : [6.588 2.974 5.552 2.026]\n",
      "Standard Deviation in class 3.0 : [0.62948868 0.31925538 0.54634787 0.27188968]\n"
     ]
    }
   ],
   "source": [
    "import numpy as np\n",
    "iris = np.loadtxt(\"C:/Users/joker/Desktop/기계학습/lab2_iris.csv\", delimiter=\",\")\n",
    "\n",
    "print(\"number of samples : \",iris.shape[0])\n",
    "print(\"number of classs : \",np.size(np.unique(iris[:,-1])))\n",
    "\n",
    "for i in np.unique(iris[:,-1]):\n",
    "    print(\"==================================================================\")\n",
    "    print(\"Number of samples in class {} : {}\".format(i, iris[iris[:,-1]==i].shape[0]))\n",
    "    print(\"Avg vector in class {} : {}\".format(i, np.mean(iris[iris[:,-1]==i,:-1],axis=0)))\n",
    "    print(\"Standard Deviation in class {} : {}\".format(i, np.std(iris[iris[:,-1]==i,:-1],axis=0)))"
   ]
  }
 ],
 "metadata": {
  "kernelspec": {
   "display_name": "Python 3 (ipykernel)",
   "language": "python",
   "name": "python3"
  },
  "language_info": {
   "codemirror_mode": {
    "name": "ipython",
    "version": 3
   },
   "file_extension": ".py",
   "mimetype": "text/x-python",
   "name": "python",
   "nbconvert_exporter": "python",
   "pygments_lexer": "ipython3",
   "version": "3.9.7"
  }
 },
 "nbformat": 4,
 "nbformat_minor": 5
}
