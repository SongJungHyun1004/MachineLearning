{
 "cells": [
  {
   "cell_type": "code",
   "execution_count": 1,
   "id": "9f01f17a",
   "metadata": {},
   "outputs": [
    {
     "name": "stdout",
     "output_type": "stream",
     "text": [
      "mean accuracy of 10 DecisionTreeClassifiers : 0.8776041666666667\n",
      "accuracy of RandomForestClassifier : 0.953125\n"
     ]
    },
    {
     "data": {
      "text/html": [
       "<div>\n",
       "<style scoped>\n",
       "    .dataframe tbody tr th:only-of-type {\n",
       "        vertical-align: middle;\n",
       "    }\n",
       "\n",
       "    .dataframe tbody tr th {\n",
       "        vertical-align: top;\n",
       "    }\n",
       "\n",
       "    .dataframe thead th {\n",
       "        text-align: right;\n",
       "    }\n",
       "</style>\n",
       "<table border=\"1\" class=\"dataframe\">\n",
       "  <thead>\n",
       "    <tr style=\"text-align: right;\">\n",
       "      <th></th>\n",
       "      <th>1</th>\n",
       "      <th>2</th>\n",
       "      <th>3</th>\n",
       "      <th>4</th>\n",
       "      <th>5</th>\n",
       "      <th>6</th>\n",
       "      <th>7</th>\n",
       "      <th>8</th>\n",
       "      <th>9</th>\n",
       "      <th>10</th>\n",
       "    </tr>\n",
       "  </thead>\n",
       "  <tbody>\n",
       "    <tr>\n",
       "      <th>0</th>\n",
       "      <td>0.875</td>\n",
       "      <td>0.885417</td>\n",
       "      <td>0.880208</td>\n",
       "      <td>0.885417</td>\n",
       "      <td>0.875</td>\n",
       "      <td>0.859375</td>\n",
       "      <td>0.885417</td>\n",
       "      <td>0.885417</td>\n",
       "      <td>0.869792</td>\n",
       "      <td>0.875</td>\n",
       "    </tr>\n",
       "  </tbody>\n",
       "</table>\n",
       "</div>"
      ],
      "text/plain": [
       "      1         2         3         4      5         6         7         8   \\\n",
       "0  0.875  0.885417  0.880208  0.885417  0.875  0.859375  0.885417  0.885417   \n",
       "\n",
       "         9      10  \n",
       "0  0.869792  0.875  "
      ]
     },
     "execution_count": 1,
     "metadata": {},
     "output_type": "execute_result"
    }
   ],
   "source": [
    "import pandas as pd\n",
    "import numpy as np\n",
    "from sklearn.tree import DecisionTreeClassifier\n",
    "from sklearn.ensemble import RandomForestClassifier\n",
    "from sklearn.model_selection import train_test_split\n",
    "from sklearn.preprocessing import LabelEncoder\n",
    "\n",
    "datas = pd.read_csv('C:/Users/joker/Desktop/기계학습/tic-tac-toe.csv', index_col=-1)\n",
    "labels = datas.index\n",
    "# 레이블 인코딩\n",
    "encoder = LabelEncoder()\n",
    "for i in datas.columns:\n",
    "    encoder.fit(datas[i])\n",
    "    rabel = encoder.transform(datas[i])\n",
    "    datas[i] = rabel\n",
    "\n",
    "# training set과 test set 분할 4:1\n",
    "trn_datas, test_datas, trn_labels, test_labels = train_test_split(datas, labels, test_size=0.2, random_state=0)\n",
    "\n",
    "accuracy = []\n",
    "for i in range(10):\n",
    "    decision_tree = DecisionTreeClassifier(criterion='entropy', random_state=i+1)\n",
    "    decision_tree.fit(trn_datas, trn_labels)\n",
    "    accuracy.append(decision_tree.score(test_datas, test_labels))\n",
    "\n",
    "df = pd.DataFrame(columns=[1, 2, 3, 4, 5, 6, 7, 8, 9, 10])\n",
    "df.loc[0] = accuracy\n",
    "print('mean accuracy of 10 DecisionTreeClassifiers :', np.mean(accuracy))\n",
    "\n",
    "random_forest = RandomForestClassifier(criterion='entropy')\n",
    "random_forest.fit(trn_datas, trn_labels)\n",
    "print('accuracy of RandomForestClassifier :', random_forest.score(test_datas, test_labels))\n",
    "df #10개 모델에 대한 각각의 정확도"
   ]
  }
 ],
 "metadata": {
  "kernelspec": {
   "display_name": "Python 3 (ipykernel)",
   "language": "python",
   "name": "python3"
  },
  "language_info": {
   "codemirror_mode": {
    "name": "ipython",
    "version": 3
   },
   "file_extension": ".py",
   "mimetype": "text/x-python",
   "name": "python",
   "nbconvert_exporter": "python",
   "pygments_lexer": "ipython3",
   "version": "3.9.7"
  }
 },
 "nbformat": 4,
 "nbformat_minor": 5
}
