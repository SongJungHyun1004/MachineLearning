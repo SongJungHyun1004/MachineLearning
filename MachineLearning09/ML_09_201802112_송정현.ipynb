{
 "cells": [
  {
   "cell_type": "code",
   "execution_count": 3,
   "id": "5d03ff61",
   "metadata": {},
   "outputs": [
    {
     "name": "stdout",
     "output_type": "stream",
     "text": [
      "Bag of words\n"
     ]
    },
    {
     "name": "stderr",
     "output_type": "stream",
     "text": [
      "C:\\Users\\CUSTOMER\\anaconda3\\lib\\site-packages\\sklearn\\neighbors\\_classification.py:228: FutureWarning: Unlike other reduction functions (e.g. `skew`, `kurtosis`), the default behavior of `mode` typically preserves the axis it acts along. In SciPy 1.11.0, this behavior will change: the default value of `keepdims` will become False, the `axis` over which the statistic is taken will be eliminated, and the value None will no longer be accepted. Set `keepdims` to True or False to avoid this warning.\n",
      "  mode, _ = stats.mode(_y[neigh_ind, k], axis=1)\n"
     ]
    },
    {
     "name": "stdout",
     "output_type": "stream",
     "text": [
      "0.51132\n",
      "TfidfVectorizer\n"
     ]
    },
    {
     "name": "stderr",
     "output_type": "stream",
     "text": [
      "C:\\Users\\CUSTOMER\\anaconda3\\lib\\site-packages\\sklearn\\neighbors\\_classification.py:228: FutureWarning: Unlike other reduction functions (e.g. `skew`, `kurtosis`), the default behavior of `mode` typically preserves the axis it acts along. In SciPy 1.11.0, this behavior will change: the default value of `keepdims` will become False, the `axis` over which the statistic is taken will be eliminated, and the value None will no longer be accepted. Set `keepdims` to True or False to avoid this warning.\n",
      "  mode, _ = stats.mode(_y[neigh_ind, k], axis=1)\n"
     ]
    },
    {
     "name": "stdout",
     "output_type": "stream",
     "text": [
      "0.57036\n"
     ]
    }
   ],
   "source": [
    "from sklearn.datasets import load_files\n",
    "from sklearn.feature_extraction.text import CountVectorizer\n",
    "from sklearn.feature_extraction.text import TfidfVectorizer\n",
    "from sklearn.feature_extraction.text import ENGLISH_STOP_WORDS\n",
    "from sklearn.decomposition import PCA\n",
    "from sklearn.neighbors import KNeighborsClassifier\n",
    "\n",
    "def get_matrix(trn, tst):\n",
    "    A = trn.toarray()\n",
    "    B = tst.toarray()\n",
    "    perform_PCA(A, B)\n",
    "\n",
    "def perform_PCA(A, B):\n",
    "    pca = PCA(n_components=2)\n",
    "    decopsed_train_X = pca.fit_transform(A)\n",
    "    decopsed_test_X = pca.fit_transform(B)\n",
    "    KNN(decopsed_train_X, decopsed_test_X)\n",
    "    \n",
    "def KNN(trn, tst):\n",
    "    clf = KNeighborsClassifier(n_neighbors=1)\n",
    "    clf.fit(trn, y_train)\n",
    "    score = clf.score(tst, y_test)\n",
    "    print(score)\n",
    "\n",
    "reviews_train = load_files(\"./aclImdb_v1/aclImdb/train\")\n",
    "reviews_test = load_files(\"./aclImdb_v1/aclImdb/test\")\n",
    "text_train, y_train = reviews_train.data, reviews_train.target\n",
    "text_test, y_test = reviews_test.data, reviews_test.target\n",
    "text_train = [doc.replace(b\"<br />\", b\" \") for doc in text_train]\n",
    "text_test = [doc.replace(b\"<br />\", b\" \") for doc in text_test]\n",
    "\n",
    "c_vect = CountVectorizer(stop_words=\"english\", min_df=5).fit(text_train+text_test)\n",
    "X_train = c_vect.transform(text_train)\n",
    "X_test = c_vect.transform(text_test)\n",
    "print('Bag of words')\n",
    "get_matrix(X_train, X_test)\n",
    "\n",
    "t_vect = TfidfVectorizer(stop_words=\"english\", norm='l2', min_df=5).fit(text_train+text_test)\n",
    "trn = t_vect.transform(text_train)\n",
    "tst = t_vect.transform(text_test)\n",
    "print('TfidfVectorizer')\n",
    "get_matrix(trn, tst)"
   ]
  }
 ],
 "metadata": {
  "kernelspec": {
   "display_name": "Python 3 (ipykernel)",
   "language": "python",
   "name": "python3"
  },
  "language_info": {
   "codemirror_mode": {
    "name": "ipython",
    "version": 3
   },
   "file_extension": ".py",
   "mimetype": "text/x-python",
   "name": "python",
   "nbconvert_exporter": "python",
   "pygments_lexer": "ipython3",
   "version": "3.9.13"
  }
 },
 "nbformat": 4,
 "nbformat_minor": 5
}
