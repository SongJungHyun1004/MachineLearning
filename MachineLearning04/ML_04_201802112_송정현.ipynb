{
 "cells": [
  {
   "cell_type": "code",
   "execution_count": 37,
   "id": "83d30c9d",
   "metadata": {},
   "outputs": [
    {
     "name": "stdout",
     "output_type": "stream",
     "text": [
      "    k  Before Normalization  After Normalization\n",
      "0   1              0.842105             0.973684\n",
      "0   3              0.763158             0.921053\n",
      "0   5              0.763158             0.947368\n",
      "0  10              0.736842             0.947368\n"
     ]
    }
   ],
   "source": [
    "import pandas as pd\n",
    "from sklearn.neighbors import KNeighborsClassifier\n",
    "from sklearn.model_selection import train_test_split\n",
    "from sklearn.preprocessing import StandardScaler\n",
    "\n",
    "features = pd.read_csv('C:/Users/joker/Desktop/기계학습/lab4_test.csv', index_col=4)\n",
    "labels = features.index\n",
    "\n",
    "k = [1, 3, 5, 10]\n",
    "col = ['k', 'Before Normalization', 'After Normalization']\n",
    "df = pd.DataFrame(columns=col)\n",
    "\n",
    "trn_feats, test_feats, trn_labels, test_labels = train_test_split(features, labels, random_state=1)\n",
    "scaler = StandardScaler()\n",
    "scaled_features = scaler.fit_transform(features)\n",
    "trn_feats2, test_feats2, trn_labels2, test_labels2 = train_test_split(scaled_features, labels, random_state=1)\n",
    "\n",
    "for i in k:\n",
    "    clf = KNeighborsClassifier(n_neighbors=i)\n",
    "    clf.fit(trn_feats, trn_labels)\n",
    "    score1 = clf.score(test_feats, test_labels)\n",
    "    \n",
    "    clf2 = KNeighborsClassifier(n_neighbors=i)\n",
    "    clf2.fit(trn_feats2, trn_labels2)\n",
    "    score2 = clf2.score(test_feats2, test_labels2)\n",
    "    df = df.append(pd.DataFrame([[i, score1, score2]], columns=col))\n",
    "print(df)"
   ]
  }
 ],
 "metadata": {
  "kernelspec": {
   "display_name": "Python 3 (ipykernel)",
   "language": "python",
   "name": "python3"
  },
  "language_info": {
   "codemirror_mode": {
    "name": "ipython",
    "version": 3
   },
   "file_extension": ".py",
   "mimetype": "text/x-python",
   "name": "python",
   "nbconvert_exporter": "python",
   "pygments_lexer": "ipython3",
   "version": "3.9.7"
  }
 },
 "nbformat": 4,
 "nbformat_minor": 5
}
